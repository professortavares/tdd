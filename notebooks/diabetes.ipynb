{
 "cells": [
  {
   "cell_type": "markdown",
   "id": "39ad168b-ea51-4fa9-ba43-ace39adab5b4",
   "metadata": {},
   "source": [
    "# Lorem Ipsum \n",
    "\n",
    "Lorem ipsum dolor sit amet, consectetur adipiscing elit. Duis sagittis enim ut cursus tristique. Fusce dignissim euismod augue, ut rhoncus nisi varius sed. Suspendisse bibendum sem et facilisis convallis. Quisque fringilla neque lacus, quis facilisis elit elementum mollis. Morbi dui nulla, accumsan sed est ac, efficitur lacinia mi. Maecenas tempus dapibus purus sed mattis. Aliquam rutrum placerat sapien, ut tristique magna vulputate a. Donec enim nunc, congue eget enim vitae, egestas pharetra est."
   ]
  },
  {
   "cell_type": "code",
   "execution_count": null,
   "id": "8c8e33f9-2b2f-45ca-897a-ac4addb37eee",
   "metadata": {},
   "outputs": [],
   "source": [
    "import pandas as pd\n",
    "\n",
    "from src.data.preprocess import Preprocess as pp"
   ]
  },
  {
   "cell_type": "markdown",
   "id": "50d9a5f2-a7e2-4ba5-8f6a-6153fcf233f4",
   "metadata": {},
   "source": [
    "## Uso normal da função"
   ]
  },
  {
   "cell_type": "code",
   "execution_count": null,
   "id": "916fc860-2db2-413b-9a1e-e7364a78219c",
   "metadata": {},
   "outputs": [],
   "source": [
    "df = pd.read_csv('../data/raw/diabetes.csv')\n",
    "df"
   ]
  },
  {
   "cell_type": "code",
   "execution_count": null,
   "id": "efe49398-087a-4984-8b32-45cd3d0aee0a",
   "metadata": {},
   "outputs": [],
   "source": [
    "r = pp.normalize_collumns(df)\n",
    "r"
   ]
  },
  {
   "cell_type": "markdown",
   "id": "3aee62e9-07f7-4145-b1d5-fb9d86457f08",
   "metadata": {},
   "source": [
    "## Dataframe inconsistente da coluna 'Pregnancies'\n",
    "\n",
    "### <span style=\"color:red\">Aqui deveria ser lançada uma exceção, mas não vai...</span>"
   ]
  },
  {
   "cell_type": "code",
   "execution_count": null,
   "id": "33978f9b-aee0-4b67-920f-8002e484b174",
   "metadata": {},
   "outputs": [],
   "source": [
    "df2 = df.copy()\n",
    "df2.loc[df2['Pregnancies'] < 3, 'Pregnancies'] = -1\n",
    "df2"
   ]
  },
  {
   "cell_type": "code",
   "execution_count": null,
   "id": "2e3f6139-87eb-455d-88b9-a9c96dd747e9",
   "metadata": {},
   "outputs": [],
   "source": [
    "r = pp.normalize_collumns(df2)\n",
    "r"
   ]
  },
  {
   "cell_type": "markdown",
   "id": "54195042-6611-4b03-8809-854f6b7bb953",
   "metadata": {},
   "source": [
    "## Acrescentando uma coluna"
   ]
  },
  {
   "cell_type": "code",
   "execution_count": null,
   "id": "cb186636-8eae-4458-a627-629b17f5cd8e",
   "metadata": {},
   "outputs": [],
   "source": [
    "df['nova_coluna'] = 10\n",
    "df"
   ]
  },
  {
   "cell_type": "code",
   "execution_count": null,
   "id": "6fb581f5-b9ac-4932-95ff-8a62c5b5c048",
   "metadata": {},
   "outputs": [],
   "source": [
    "r = pp.normalize_collumns(df)\n",
    "r"
   ]
  },
  {
   "cell_type": "markdown",
   "id": "b6dc47c5-fded-4f3b-ab18-e059baec8e55",
   "metadata": {},
   "source": [
    "## Removendo coluna"
   ]
  },
  {
   "cell_type": "code",
   "execution_count": null,
   "id": "36e38a81-a75e-41d5-a7c1-a4886419c4b3",
   "metadata": {},
   "outputs": [],
   "source": [
    "df = df.drop(columns=['Outcome', 'nova_coluna'])\n",
    "df"
   ]
  },
  {
   "cell_type": "code",
   "execution_count": null,
   "id": "96303760-093f-4394-997a-3baa56812263",
   "metadata": {},
   "outputs": [],
   "source": [
    "r = pp.normalize_collumns(df)\n",
    "r"
   ]
  },
  {
   "cell_type": "markdown",
   "id": "f8059455-c01f-44a4-b200-003652b6fa2d",
   "metadata": {},
   "source": [
    "## Dataframe vazio"
   ]
  },
  {
   "cell_type": "code",
   "execution_count": null,
   "id": "b502ced8-2978-4586-b41e-89e4ac748824",
   "metadata": {},
   "outputs": [],
   "source": [
    "r = pp.normalize_collumns(pd.DataFrame())\n",
    "r"
   ]
  },
  {
   "cell_type": "code",
   "execution_count": null,
   "id": "b3c22a16-4045-4dde-9c79-200d0ec61e41",
   "metadata": {},
   "outputs": [],
   "source": []
  }
 ],
 "metadata": {
  "kernelspec": {
   "display_name": "Python 3 (ipykernel)",
   "language": "python",
   "name": "python3"
  },
  "language_info": {
   "codemirror_mode": {
    "name": "ipython",
    "version": 3
   },
   "file_extension": ".py",
   "mimetype": "text/x-python",
   "name": "python",
   "nbconvert_exporter": "python",
   "pygments_lexer": "ipython3",
   "version": "3.9.7"
  }
 },
 "nbformat": 4,
 "nbformat_minor": 5
}
